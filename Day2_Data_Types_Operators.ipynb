{
  "nbformat": 4,
  "nbformat_minor": 0,
  "metadata": {
    "colab": {
      "name": "Day2-Data_Types_Operators.ipynb",
      "provenance": [],
      "collapsed_sections": [],
      "include_colab_link": true
    },
    "kernelspec": {
      "name": "python3",
      "display_name": "Python 3"
    }
  },
  "cells": [
    {
      "cell_type": "markdown",
      "metadata": {
        "id": "view-in-github",
        "colab_type": "text"
      },
      "source": [
        "<a href=\"https://colab.research.google.com/github/aniket-1812/30-Days-of-ML-with-kaggle/blob/master/Day2_Data_Types_Operators.ipynb\" target=\"_parent\"><img src=\"https://colab.research.google.com/assets/colab-badge.svg\" alt=\"Open In Colab\"/></a>"
      ]
    },
    {
      "cell_type": "markdown",
      "metadata": {
        "id": "cs768gAfFM2S"
      },
      "source": [
        "<br><br>\n",
        "\n",
        "##**9. Boolean Datatype, Comparison and Logical Operators:**\n",
        "\n",
        "Bool is another datatype that is commonly used in Python. Bool is short for Boolean which can have a value of either True or False. Boolean algebra is the branch of algebra in which the values of the variables are the truth values true or false. Boolean algebra us the framework on which all electronic devices and built and exists fundamentally in every line of code inside a computer. In python we can easily assign boolean values like this:\n"
      ]
    },
    {
      "cell_type": "code",
      "metadata": {
        "id": "JW5nXrxsEnin"
      },
      "source": [
        "python_awsome = True\n",
        "doumentation_bad = False"
      ],
      "execution_count": null,
      "outputs": []
    },
    {
      "cell_type": "markdown",
      "metadata": {
        "id": "a-JN4xZlHmzD"
      },
      "source": [
        "We can use comparison operators to compare 2 values and produce boolean results like:"
      ]
    },
    {
      "cell_type": "code",
      "metadata": {
        "id": "mVRNbJecHjgH",
        "colab": {
          "base_uri": "https://localhost:8080/"
        },
        "outputId": "5dfcd8b4-cfa9-4e6f-c03e-764d43136b00"
      },
      "source": [
        "a = 3 > 1\n",
        "print(a)"
      ],
      "execution_count": null,
      "outputs": [
        {
          "output_type": "stream",
          "text": [
            "True\n"
          ],
          "name": "stdout"
        }
      ]
    },
    {
      "cell_type": "markdown",
      "metadata": {
        "id": "QK7KL0o3Jqo3"
      },
      "source": [
        "Here 3 is greater than 1 so printing out the output gives us a boolean value to true. There are many comparison operators in python, as you can see here are all of them.\n",
        "\n",
        "As you will see the function of all these comparison operators are evident from their names itself these are **less than,  greater than , less than or equal to, greater than or equal to, not equal to**.\n",
        "\n",
        "Working with boolean has its own set of operators called as logical operators. These operators very useful when working with boolean, and evaluates if both the sides are true, **OR** evaluates if atleast one side is true and **not** evaluates the inverse of the input boolean.\n",
        "\n",
        "Lets understand if via an example:"
      ]
    },
    {
      "cell_type": "code",
      "metadata": {
        "id": "eN24eeGyHl6k",
        "colab": {
          "base_uri": "https://localhost:8080/"
        },
        "outputId": "4b3a3fde-4fc5-4aa1-c5bb-eab4ca8fd0da"
      },
      "source": [
        "rent = 1200\n",
        "is_affordable = rent > 1000 and rent < 2000\n",
        "\n",
        "print(is_affordable)"
      ],
      "execution_count": null,
      "outputs": [
        {
          "output_type": "stream",
          "text": [
            "True\n"
          ],
          "name": "stdout"
        }
      ]
    },
    {
      "cell_type": "markdown",
      "metadata": {
        "id": "XgntpdwgLpzT"
      },
      "source": [
        "Here we check if the *rent* of a house is affordable or not, here in the second line we evaluate both the sides ie *rent > 1000*, yes, so it is **true** while the second condition is *rent < 200*, that too is **true**. as both the condition on the left and right side of and is **true** hence the boolean value of **true** will be assigned to the *is_affordable variable*. In other words if the *rent* is greater than 1000 and less than 2000 then only it is affordable.\n",
        "\n",
        "And here you can see how not works:"
      ]
    },
    {
      "cell_type": "code",
      "metadata": {
        "id": "8c9_zsNvKR0v",
        "colab": {
          "base_uri": "https://localhost:8080/"
        },
        "outputId": "450af4af-9ffd-4acd-f4db-341f9bc4e027"
      },
      "source": [
        "rent = 1200\n",
        "is_affordable = not(rent > 1000 and rent < 2000) #\"not\" just inverts bool value\n",
        "\n",
        "print(is_affordable)"
      ],
      "execution_count": null,
      "outputs": [
        {
          "output_type": "stream",
          "text": [
            "False\n"
          ],
          "name": "stdout"
        }
      ]
    },
    {
      "cell_type": "markdown",
      "metadata": {
        "id": "oeq2QDdEMSK8"
      },
      "source": [
        "<br><br>\n",
        "\n",
        "## **10. Strings:**\n",
        "\n",
        "Python has another datatype in its toolkit called as Strings, as the name suggest this datatype deals with characters words and text. String is a immutable order of sequences of characters (eg, Letters, numbers, spaces and symbols. We will be explaining what does immutable order means later on.\n",
        "\n",
        "You can create a string by using quotes as seen here, you can use either single / double quotes they both work equally well but there are some cases where you might prefer one over the other which we will be discussing below."
      ]
    },
    {
      "cell_type": "code",
      "metadata": {
        "id": "Q84mRQ2_MFGW",
        "colab": {
          "base_uri": "https://localhost:8080/"
        },
        "outputId": "ede908ab-b763-45e8-c48c-43a836859978"
      },
      "source": [
        "# using Double Quotes\n",
        "print(\"ShapeAI\")\n",
        "# using Single Quotes\n",
        "print('ShapeAI')"
      ],
      "execution_count": null,
      "outputs": [
        {
          "output_type": "stream",
          "text": [
            "ShapeAI\n",
            "ShapeAI\n"
          ],
          "name": "stdout"
        }
      ]
    },
    {
      "cell_type": "markdown",
      "metadata": {
        "id": "odFoazduN4rR"
      },
      "source": [
        "In this example we printed the word *ShapeAI* using single and double quotes and got the same output *ShapeAI*.\n",
        "\n",
        "We can also assign a string to a variable just like float and int."
      ]
    },
    {
      "cell_type": "code",
      "metadata": {
        "id": "Krfhjf9NN0-D",
        "colab": {
          "base_uri": "https://localhost:8080/"
        },
        "outputId": "ac14bfa2-a02d-4039-b8a7-1aec4f79a836"
      },
      "source": [
        "motto = \"Learn | Code | Compete | Intern\" \n",
        "print(motto)"
      ],
      "execution_count": null,
      "outputs": [
        {
          "output_type": "stream",
          "text": [
            "Learn | Code | Compete | Intern\n"
          ],
          "name": "stdout"
        }
      ]
    },
    {
      "cell_type": "markdown",
      "metadata": {
        "id": "YHgDcRm6R0FI"
      },
      "source": [
        "Strings in Python are shown as the variable type str."
      ]
    },
    {
      "cell_type": "code",
      "metadata": {
        "id": "YkyDHgq3RW6K",
        "colab": {
          "base_uri": "https://localhost:8080/"
        },
        "outputId": "6c3767f4-debf-4587-b05c-f3ba43d5cbf7"
      },
      "source": [
        "type(motto)"
      ],
      "execution_count": null,
      "outputs": [
        {
          "output_type": "execute_result",
          "data": {
            "text/plain": [
              "str"
            ]
          },
          "metadata": {
            "tags": []
          },
          "execution_count": 33
        }
      ]
    },
    {
      "cell_type": "markdown",
      "metadata": {
        "id": "SjqlkfgzR-gR"
      },
      "source": [
        "> *String can contain any character number symbol space within the quotes.\n",
        "However if we want to have quotes inside the string we get an error.*"
      ]
    },
    {
      "cell_type": "code",
      "metadata": {
        "id": "788JWDKUR4BD",
        "colab": {
          "base_uri": "https://localhost:8080/",
          "height": 131
        },
        "outputId": "18575bf2-aedc-4423-fe2c-69b8430a7c9f"
      },
      "source": [
        "dialogue = \"shiva said, \"you learn as you grow\"\""
      ],
      "execution_count": null,
      "outputs": [
        {
          "output_type": "error",
          "ename": "SyntaxError",
          "evalue": "ignored",
          "traceback": [
            "\u001b[0;36m  File \u001b[0;32m\"<ipython-input-34-2d8d4e434758>\"\u001b[0;36m, line \u001b[0;32m1\u001b[0m\n\u001b[0;31m    dialogue = \"shiva said, \"you learn as you grow\"\"\u001b[0m\n\u001b[0m                               ^\u001b[0m\n\u001b[0;31mSyntaxError\u001b[0m\u001b[0;31m:\u001b[0m invalid syntax\n"
          ]
        }
      ]
    },
    {
      "cell_type": "markdown",
      "metadata": {
        "id": "WjG9dsH5SOFT"
      },
      "source": [
        "Python provides 2 easy ways to handle such problem:\n",
        "\n",
        "1. Place the string in single quotes rather than double quotes. This will solve your problem for having double quotes within the string. But sometimes you will want to have both double and single quotes in your string in that case this will prove to be a problem."
      ]
    },
    {
      "cell_type": "code",
      "metadata": {
        "id": "_lPyEIYmSIes",
        "colab": {
          "base_uri": "https://localhost:8080/"
        },
        "outputId": "12ed59d1-2964-4e66-9bdb-b077fddf3256"
      },
      "source": [
        "dialogue = 'shiva said, \"you learn as you grow\"'\n",
        "print(dialogue)"
      ],
      "execution_count": null,
      "outputs": [
        {
          "output_type": "stream",
          "text": [
            "shiva said, \"you learn as you grow\"\n"
          ],
          "name": "stdout"
        }
      ]
    },
    {
      "cell_type": "markdown",
      "metadata": {
        "id": "EMqd6v3xSMno"
      },
      "source": [
        "2. In that case we can use a backslash to skip quotes as you can see in this example. The backslash helps python to know that the the single quote should be interpreted as part of the string rather than the quote that ends the string."
      ]
    },
    {
      "cell_type": "code",
      "metadata": {
        "id": "otSfYmAoS2TM",
        "colab": {
          "base_uri": "https://localhost:8080/"
        },
        "outputId": "37840172-074b-41b3-a3a2-667a0ef1d68a"
      },
      "source": [
        "dialogue = '\"shiva you\\'re bag is red\"'\n",
        "print(dialogue)"
      ],
      "execution_count": null,
      "outputs": [
        {
          "output_type": "stream",
          "text": [
            "\"shiva you're bag is red\"\n"
          ],
          "name": "stdout"
        }
      ]
    },
    {
      "cell_type": "markdown",
      "metadata": {
        "id": "RA3hh1VhTFUF"
      },
      "source": [
        "There are a few operators that we use on floats and ints that can also be used on strings. For example we can use the **'+'** to combine / concatenate 2 strings together and we can use **'*'** to repeat the string let us look at an example for each."
      ]
    },
    {
      "cell_type": "code",
      "metadata": {
        "id": "bIBYEJ6uS7ko",
        "colab": {
          "base_uri": "https://localhost:8080/"
        },
        "outputId": "af2aa4f8-b41c-46a3-8639-0e1011b785ee"
      },
      "source": [
        "print(\"hello\" + \"world\")\n",
        "\n",
        "print(\"hello\" + \" \" + \"world\")"
      ],
      "execution_count": null,
      "outputs": [
        {
          "output_type": "stream",
          "text": [
            "helloworld\n",
            "hello world\n"
          ],
          "name": "stdout"
        }
      ]
    },
    {
      "cell_type": "markdown",
      "metadata": {
        "id": "iurj3HxXTkx2"
      },
      "source": [
        "> *here in this example we can see that using the plus arithmetic operator we get *helloworld* written together but this word that is printed out has no meaning, we need to have a space between both the words to have a meaning. We can add another string containing just a space in between the words to do so.*"
      ]
    },
    {
      "cell_type": "code",
      "metadata": {
        "id": "jYVDqes0TeCz",
        "colab": {
          "base_uri": "https://localhost:8080/"
        },
        "outputId": "ea378868-c864-49f7-d8cf-352bf74fb868"
      },
      "source": [
        "word = \"hello\"\n",
        "print(word * 5)"
      ],
      "execution_count": null,
      "outputs": [
        {
          "output_type": "stream",
          "text": [
            "hellohellohellohellohello\n"
          ],
          "name": "stdout"
        }
      ]
    },
    {
      "cell_type": "markdown",
      "metadata": {
        "id": "78vTvfYSTwap"
      },
      "source": [
        "Now in the second example we can see that using the multiplication operator on a string we get repetition of the same word as many time as the number we multiplied the string by in the output."
      ]
    },
    {
      "cell_type": "markdown",
      "metadata": {
        "id": "fIFnUmZcT3_I"
      },
      "source": [
        "However unlike multiplication and addition operators the other arithmetic operators like division and subtraction cannot be used on strings any attempt to do so would result in an error that string is an unsupported datatype for the division/subtraction operator."
      ]
    },
    {
      "cell_type": "code",
      "metadata": {
        "id": "h2nM7OBxT3he",
        "colab": {
          "base_uri": "https://localhost:8080/",
          "height": 201
        },
        "outputId": "ff8206ff-783e-479e-f6b4-bc19c74e5370"
      },
      "source": [
        "word_1 = \"hello\"\n",
        "word_2 = \"world\"\n",
        "print(word_1 / word_2)"
      ],
      "execution_count": null,
      "outputs": [
        {
          "output_type": "error",
          "ename": "TypeError",
          "evalue": "ignored",
          "traceback": [
            "\u001b[0;31m---------------------------------------------------------------------------\u001b[0m",
            "\u001b[0;31mTypeError\u001b[0m                                 Traceback (most recent call last)",
            "\u001b[0;32m<ipython-input-39-fe2364e5ae17>\u001b[0m in \u001b[0;36m<module>\u001b[0;34m()\u001b[0m\n\u001b[1;32m      1\u001b[0m \u001b[0mword_1\u001b[0m \u001b[0;34m=\u001b[0m \u001b[0;34m\"hello\"\u001b[0m\u001b[0;34m\u001b[0m\u001b[0;34m\u001b[0m\u001b[0m\n\u001b[1;32m      2\u001b[0m \u001b[0mword_2\u001b[0m \u001b[0;34m=\u001b[0m \u001b[0;34m\"world\"\u001b[0m\u001b[0;34m\u001b[0m\u001b[0;34m\u001b[0m\u001b[0m\n\u001b[0;32m----> 3\u001b[0;31m \u001b[0mprint\u001b[0m\u001b[0;34m(\u001b[0m\u001b[0mword_1\u001b[0m \u001b[0;34m/\u001b[0m \u001b[0mword_2\u001b[0m\u001b[0;34m)\u001b[0m\u001b[0;34m\u001b[0m\u001b[0;34m\u001b[0m\u001b[0m\n\u001b[0m",
            "\u001b[0;31mTypeError\u001b[0m: unsupported operand type(s) for /: 'str' and 'str'"
          ]
        }
      ]
    },
    {
      "cell_type": "markdown",
      "metadata": {
        "id": "9gumg_-mUBfA"
      },
      "source": [
        "A useful builtin function for string datatypes is *len()* which stands for length. As the name suggests (it returns the length of an object ie., it returns the no of characters in a string.\n",
        "\n",
        "It takes in values in a parenthesis and returns the length of the string. *len()* is a little different from *print()* as the value returned from length can be stored in a variable as seen in the example here. The *len()* function outputs a value 7 that is then stored in a variable called as *word_length* which is then printed out."
      ]
    },
    {
      "cell_type": "code",
      "metadata": {
        "id": "oQNIXXfNTtzl",
        "colab": {
          "base_uri": "https://localhost:8080/"
        },
        "outputId": "d73c4e6c-0663-496b-8c5f-a2037be433af"
      },
      "source": [
        "word_length = len(\"ShapeAI\")\n",
        "print(word_length)"
      ],
      "execution_count": null,
      "outputs": [
        {
          "output_type": "stream",
          "text": [
            "7\n"
          ],
          "name": "stdout"
        }
      ]
    },
    {
      "cell_type": "markdown",
      "metadata": {
        "id": "EEfczWGFzu6Y"
      },
      "source": [
        "### **Question:**\n",
        "\n",
        "The line of code in the following code block will cause a *SyntaxError*, thanks to the misuse of quotation marks. First run it with Test Run to view the error message. Then resolve the problem so that the quote (from Mahatama Gandhi) is correctly assigned to the variable *gandhi_quote*."
      ]
    },
    {
      "cell_type": "code",
      "metadata": {
        "id": "MnmykPZy0F-w",
        "colab": {
          "base_uri": "https://localhost:8080/",
          "height": 131
        },
        "outputId": "80fc424c-715c-4fd5-8f3d-641313c48fe2"
      },
      "source": [
        "# TODO: Fix this string!\n",
        "gandhi_quote = 'If you don't ask, you don't get it'"
      ],
      "execution_count": null,
      "outputs": [
        {
          "output_type": "error",
          "ename": "SyntaxError",
          "evalue": "ignored",
          "traceback": [
            "\u001b[0;36m  File \u001b[0;32m\"<ipython-input-45-48a56ffa20ca>\"\u001b[0;36m, line \u001b[0;32m2\u001b[0m\n\u001b[0;31m    gandhi_quote = 'If you don't ask, you don't get it'\u001b[0m\n\u001b[0m                               ^\u001b[0m\n\u001b[0;31mSyntaxError\u001b[0m\u001b[0;31m:\u001b[0m invalid syntax\n"
          ]
        }
      ]
    },
    {
      "cell_type": "code",
      "metadata": {
        "id": "l9IIAFbbWfiN"
      },
      "source": [
        "#After Correction\n",
        "gandhi_quote = \"If you don't ask, you don't get it\""
      ],
      "execution_count": null,
      "outputs": []
    },
    {
      "cell_type": "markdown",
      "metadata": {
        "id": "GDbOH8th0g7c"
      },
      "source": [
        "### **Question:**\n",
        "\n",
        "In this question you have to print the accuracy logs of a model in training."
      ]
    },
    {
      "cell_type": "code",
      "metadata": {
        "id": "tlAI_jTK0ywg",
        "colab": {
          "base_uri": "https://localhost:8080/"
        },
        "outputId": "1f359db7-9f69-401c-fdb2-deacca061bd6"
      },
      "source": [
        "model = \"VGG16\"\n",
        "iteration = \"150\"\n",
        "accuracy = \"67.98\"\n",
        "\n",
        "# TODO: print a log message using the variables above\n",
        "# This message should have the same format as this one:\n",
        "# \"the accuracy of ResNET50 model in 100th iteration is: 42.16%\"\n",
        "print(f'the accuracy of {model} model in {iteration}th iteration is: {accuracy}%')"
      ],
      "execution_count": null,
      "outputs": [
        {
          "output_type": "stream",
          "text": [
            "the accuracy of VGG16 model in 150th iteration is: 67.98%\n"
          ],
          "name": "stdout"
        }
      ]
    },
    {
      "cell_type": "markdown",
      "metadata": {
        "id": "WiPTD1y81uXZ"
      },
      "source": [
        "### **Question:**\n",
        "\n",
        "Use string concatination and *len()* function to fing the length of a persons complete name and store it in the variable *name_length*.\n",
        "\n",
        "As a business card designer find if the name can fit into a business card. "
      ]
    },
    {
      "cell_type": "code",
      "metadata": {
        "id": "9Hzh7_vB1tpb",
        "colab": {
          "base_uri": "https://localhost:8080/"
        },
        "outputId": "d35f07bb-2274-43df-e24b-75777df78902"
      },
      "source": [
        "given_name = \"Rahul\"\n",
        "middle_names = \"Shastri\"\n",
        "family_name = \"Mishra\"\n",
        "\n",
        "name_length = len(given_name + middle_names + family_name)#todo: calculate how long this name is\n",
        "\n",
        "# Now we check to make sure that the name fits within the driving license character limit\n",
        "# Nothing you need to do here\n",
        "driving_license_character_limit = 28\n",
        "print(name_length <= driving_license_character_limit)"
      ],
      "execution_count": null,
      "outputs": [
        {
          "output_type": "stream",
          "text": [
            "True\n"
          ],
          "name": "stdout"
        }
      ]
    },
    {
      "cell_type": "markdown",
      "metadata": {
        "id": "Juq_M-ENy6-_"
      },
      "source": [
        "<br><br>\n",
        "\n",
        "## **11. Type and Type Conversion Revision:**\n",
        "\n",
        "Till now we have covered 4 different datatypes int, float, bool and string. As you can recall from the previous classes python has a builtin function called as type that returns the type of an object."
      ]
    },
    {
      "cell_type": "code",
      "metadata": {
        "id": "wsr3y0KgyuWW",
        "colab": {
          "base_uri": "https://localhost:8080/"
        },
        "outputId": "cb754f21-e2b7-40cf-f4b7-50782773583f"
      },
      "source": [
        "print(type(75))\n",
        "print(type(75.0))\n",
        "print(type(\"75\"))\n",
        "print(type(True))"
      ],
      "execution_count": null,
      "outputs": [
        {
          "output_type": "stream",
          "text": [
            "<class 'int'>\n",
            "<class 'float'>\n",
            "<class 'str'>\n",
            "<class 'bool'>\n"
          ],
          "name": "stdout"
        }
      ]
    },
    {
      "cell_type": "markdown",
      "metadata": {
        "id": "iGgkIXg5zgwN"
      },
      "source": [
        "Look at the code example we can see that even though the first 3 values appear to be same they can be encoded into different datatypes each with their own set of functions operations and uses.\n",
        "\n",
        "This is to note that here we have called the function print on another function type to output the return value of the function type. In such a case always the function inside the parenthesis is  run first ie. here it will be type.\n",
        "\n",
        "Different types have different properties with their own set of functions operations and uses and hence while choosing a variable you need to choose the correct set of datatype for it depending upon how you care going to use it this is very important.\n",
        "\n",
        "There might be sometimes when you don't have the control over the type of the data being provided to you like one that has been received from a user as in input. But the good news is that python allows you to create new objects from old and change the datatypes for these new objects. As we had previously seen in the integers and floats video."
      ]
    },
    {
      "cell_type": "markdown",
      "metadata": {
        "id": "bBZGIBLe6kKT"
      },
      "source": [
        "> For example here we created a float ie 3.0 from an int 3 and assigned it to a new variable called decimal"
      ]
    },
    {
      "cell_type": "code",
      "metadata": {
        "id": "yUceqN1QzIJ0",
        "colab": {
          "base_uri": "https://localhost:8080/"
        },
        "outputId": "24397112-eb83-4bfb-a92f-4d1903f94ac7"
      },
      "source": [
        "decimal = float(3)\n",
        "print(decimal)\n",
        "print(type(decimal))"
      ],
      "execution_count": null,
      "outputs": [
        {
          "output_type": "stream",
          "text": [
            "3.0\n",
            "<class 'float'>\n"
          ],
          "name": "stdout"
        }
      ]
    },
    {
      "cell_type": "markdown",
      "metadata": {
        "id": "OHQFOeZi6o6c"
      },
      "source": [
        "> In this next example we created a string from the integer variable *marks* and used that to create a larger string."
      ]
    },
    {
      "cell_type": "code",
      "metadata": {
        "id": "xZwhCiLZ6jky",
        "colab": {
          "base_uri": "https://localhost:8080/"
        },
        "outputId": "37458058-a5f1-4dbc-dae7-e96a44573363"
      },
      "source": [
        "marks = 15\n",
        "subject = \"coding\"\n",
        "semester = \"first\"\n",
        "\n",
        "result = \"I scored \" + str(marks) + \" in \" + subject + \" during my \" + semester + \" semester.\"\n",
        "print(result)"
      ],
      "execution_count": null,
      "outputs": [
        {
          "output_type": "stream",
          "text": [
            "I scored 15 in coding during my first semester.\n"
          ],
          "name": "stdout"
        }
      ]
    },
    {
      "cell_type": "markdown",
      "metadata": {
        "id": "IqgSdyf067yQ"
      },
      "source": [
        "> we can also create an float from string"
      ]
    },
    {
      "cell_type": "code",
      "metadata": {
        "id": "Kqsda09k6d4x",
        "colab": {
          "base_uri": "https://localhost:8080/"
        },
        "outputId": "6568ca3f-c397-4833-cf8c-364af3cfa372"
      },
      "source": [
        "marks = \"15\"\n",
        "print(type(marks))\n",
        "\n",
        "marks = float(marks)\n",
        "print(type(marks))"
      ],
      "execution_count": null,
      "outputs": [
        {
          "output_type": "stream",
          "text": [
            "<class 'str'>\n",
            "<class 'float'>\n"
          ],
          "name": "stdout"
        }
      ]
    },
    {
      "cell_type": "markdown",
      "metadata": {
        "id": "pzFSq-6W7oZi"
      },
      "source": [
        "### **Question:**\n",
        "\n",
        "In this quiz, you’ll need to change the types of the input and output data in order to get the result you want.\n",
        "\n",
        "Calculate and print the total sales for the week from the data provided. Print out a string of the form \"This week's total sales: xxx\", where xxx will be the actual total of all the numbers. You’ll need to change the type of the input data in order to calculate that total."
      ]
    },
    {
      "cell_type": "code",
      "metadata": {
        "id": "hu24eSfU7Q3F",
        "colab": {
          "base_uri": "https://localhost:8080/"
        },
        "outputId": "625cf04d-3568-4731-8122-13d33062f0ae"
      },
      "source": [
        "mon_sales = \"121\"\n",
        "tues_sales = \"105\"\n",
        "wed_sales = \"110\"\n",
        "thurs_sales = \"98\"\n",
        "fri_sales = \"95\"\n",
        "\n",
        "#TODO: Print a string with this format: This week's total sales: xxx\n",
        "print(f\"This week's total sales: {int(mon_sales) + int(tues_sales) + int(wed_sales) + int(thurs_sales) + int(fri_sales)}\")\n",
        "# You will probably need to write some lines of code before the print statement.\n",
        "total_sales = (float(mon_sales) + float(tues_sales) + float(wed_sales) \n",
        "                + float(thurs_sales) + float(fri_sales))\n",
        "print(\"This week\\'s total sales: \" + str(total_sales))"
      ],
      "execution_count": null,
      "outputs": [
        {
          "output_type": "stream",
          "text": [
            "This week's total sales: 529\n",
            "This week's total sales: 529.0\n"
          ],
          "name": "stdout"
        }
      ]
    },
    {
      "cell_type": "markdown",
      "metadata": {
        "id": "4M_Qt7mSWGuD"
      },
      "source": [
        "### **12.a. One important string method: format()**\n",
        "\n",
        "We will be using the *format()* string method a good bit in our future work in Python, and you will find it very valuable in your coding, especially with your print statements.\n",
        "\n",
        "We can best illustrate how to use *format()* by looking at some examples:"
      ]
    },
    {
      "cell_type": "code",
      "metadata": {
        "id": "utXx78crUTO0",
        "colab": {
          "base_uri": "https://localhost:8080/"
        },
        "outputId": "51725049-bb79-4ce4-fbb8-ca2b8b5e6073"
      },
      "source": [
        "# Example 1\n",
        "print(\"EG:1\")\n",
        "print(\"Mohammed has {} balloons\".format(27))\n",
        "\n",
        "# Example 2\n",
        "print(\"EG:2\")\n",
        "animal = \"dog\"\n",
        "action = \"bite\"\n",
        "print(\"Does your {} {}?\".format(animal, action))\n",
        "\n",
        "# Example 3\n",
        "print(\"EG:3\")\n",
        "maria_string = \"Maria loves {} and {}\"\n",
        "print(maria_string.format(\"math\",\"statistics\"))"
      ],
      "execution_count": null,
      "outputs": [
        {
          "output_type": "stream",
          "text": [
            "EG:1\n",
            "Mohammed has 27 balloons\n",
            "EG:2\n",
            "Does your dog bite?\n",
            "EG:3\n",
            "Maria loves math and statistics\n"
          ],
          "name": "stdout"
        }
      ]
    },
    {
      "cell_type": "markdown",
      "metadata": {
        "id": "G9ybjouxWyQe"
      },
      "source": [
        "Notice how in each example, the number of pairs of curly braces {} you use inside the string is the same as the number of replacements you want to make using the values inside *format()*.\n",
        "\n",
        "More advanced students can learn more about the formal syntax for using the *format()* string method [here](https://docs.python.org/3.6/library/string.html#format-string-syntax)."
      ]
    },
    {
      "cell_type": "markdown",
      "metadata": {
        "id": "PqKTCtYOTMQ8"
      },
      "source": [
        "<br><br>\n",
        "\n",
        "## **13. Lists and Membership Operators:**\n",
        "\n",
        "**Data structures** are containers that organize and group data types together in different ways. A **list** is one of the most common and basic data structures in Python. It is a mutable ordered sequence of elements.\n",
        "\n",
        "The code below defines a variable *students* which contains a list of strings. Each element in the list is a string that signifies the name of a student.\n",
        "\n",
        "> The data inside a list can be a mixture of any number and combination of diffrent data types."
      ]
    },
    {
      "cell_type": "code",
      "metadata": {
        "id": "zRS5zyHbWqaP"
      },
      "source": [
        "students = ['sam', 'pam', 'rocky', 'austin', 'steve', 'banner']"
      ],
      "execution_count": null,
      "outputs": []
    },
    {
      "cell_type": "markdown",
      "metadata": {
        "id": "fl7PSRXXdhrO"
      },
      "source": [
        "List are ordered, we can look up individual elements by their index, we can look elements from a list just like we have done below."
      ]
    },
    {
      "cell_type": "code",
      "metadata": {
        "id": "uERsCZXNeBbY",
        "colab": {
          "base_uri": "https://localhost:8080/"
        },
        "outputId": "553734a6-ca7a-4ed9-fdf7-db4020b92c0a"
      },
      "source": [
        "print(students[0])\n",
        "print(students[1])\n",
        "print(students[2])"
      ],
      "execution_count": null,
      "outputs": [
        {
          "output_type": "stream",
          "text": [
            "sam\n",
            "pam\n",
            "rocky\n"
          ],
          "name": "stdout"
        }
      ]
    },
    {
      "cell_type": "markdown",
      "metadata": {
        "id": "cGgwxP3_eWir"
      },
      "source": [
        "Notice that the first element in the list is accessed by the index 0, many programming language follow this convection called as zero based indexing.\n",
        "\n",
        "We can also access the elements from the end of the list using negative index as seen in the examples below."
      ]
    },
    {
      "cell_type": "code",
      "metadata": {
        "id": "CiGVaf_beRAC",
        "colab": {
          "base_uri": "https://localhost:8080/"
        },
        "outputId": "a7ae107a-2f27-4bc0-b47a-7255ee823bc8"
      },
      "source": [
        "print(students[-1])\n",
        "print(students[-2])\n",
        "print(students[-3])"
      ],
      "execution_count": null,
      "outputs": [
        {
          "output_type": "stream",
          "text": [
            "banner\n",
            "steve\n",
            "austin\n"
          ],
          "name": "stdout"
        }
      ]
    },
    {
      "cell_type": "markdown",
      "metadata": {
        "id": "KqJU4qOYgE6A"
      },
      "source": [
        "If you try to access an index in a list that doesn't exist then you will get an Error as seen below."
      ]
    },
    {
      "cell_type": "code",
      "metadata": {
        "id": "C5DSaY0Wf2wT",
        "colab": {
          "base_uri": "https://localhost:8080/",
          "height": 166
        },
        "outputId": "468475bd-87c6-46ba-e862-6388b711c090"
      },
      "source": [
        "print(students[20])"
      ],
      "execution_count": null,
      "outputs": [
        {
          "output_type": "error",
          "ename": "IndexError",
          "evalue": "ignored",
          "traceback": [
            "\u001b[0;31m---------------------------------------------------------------------------\u001b[0m",
            "\u001b[0;31mIndexError\u001b[0m                                Traceback (most recent call last)",
            "\u001b[0;32m<ipython-input-60-83fc5f7cb36c>\u001b[0m in \u001b[0;36m<module>\u001b[0;34m()\u001b[0m\n\u001b[0;32m----> 1\u001b[0;31m \u001b[0mprint\u001b[0m\u001b[0;34m(\u001b[0m\u001b[0mstudents\u001b[0m\u001b[0;34m[\u001b[0m\u001b[0;36m20\u001b[0m\u001b[0;34m]\u001b[0m\u001b[0;34m)\u001b[0m\u001b[0;34m\u001b[0m\u001b[0;34m\u001b[0m\u001b[0m\n\u001b[0m",
            "\u001b[0;31mIndexError\u001b[0m: list index out of range"
          ]
        }
      ]
    },
    {
      "cell_type": "markdown",
      "metadata": {
        "id": "nKJIgDrZh0Cn"
      },
      "source": [
        "### **Question:**\n",
        "\n",
        "Try to use *len()* to pull the last element from the above list"
      ]
    },
    {
      "cell_type": "code",
      "metadata": {
        "id": "NOiBUWAwgV87",
        "colab": {
          "base_uri": "https://localhost:8080/",
          "height": 35
        },
        "outputId": "ae44bb83-e76f-4b72-d158-981d46330862"
      },
      "source": [
        "# TODO: write your code here\n",
        "students[len(students)-1]"
      ],
      "execution_count": null,
      "outputs": [
        {
          "output_type": "execute_result",
          "data": {
            "application/vnd.google.colaboratory.intrinsic+json": {
              "type": "string"
            },
            "text/plain": [
              "'banner'"
            ]
          },
          "metadata": {
            "tags": []
          },
          "execution_count": 61
        }
      ]
    },
    {
      "cell_type": "markdown",
      "metadata": {
        "id": "WZU02jRcFFPN"
      },
      "source": [
        "## **13.a. Membership Operators:[Lists]**\n",
        "\n",
        "In addition to accessing individual elements froma a list, we can use pythons sliceing notation to access a subsequence of a list.\n",
        "\n",
        "Slicing means using indicies to slice off parts of an object like list/string. Look at an example "
      ]
    },
    {
      "cell_type": "code",
      "metadata": {
        "id": "dLyKcmXNiLwU",
        "colab": {
          "base_uri": "https://localhost:8080/"
        },
        "outputId": "d4087909-9212-4172-b85b-172f23a59f91"
      },
      "source": [
        "students = ['sam', 'pam', 'rocky', 'austin', 'steve', 'banner', 'tony', 'bruce', \n",
        "            'henry', 'clark', 'diana']\n",
        "student = \"Barry\"\n",
        "\n",
        "# slice a particular range\n",
        "marvel = students[4:7]\n",
        "flash = student[1:3]\n",
        "\n",
        "print(marvel)\n",
        "print(flash)"
      ],
      "execution_count": null,
      "outputs": [
        {
          "output_type": "stream",
          "text": [
            "['steve', 'banner', 'tony']\n",
            "ar\n"
          ],
          "name": "stdout"
        }
      ]
    },
    {
      "cell_type": "code",
      "metadata": {
        "id": "hzDrsBVELAsr",
        "colab": {
          "base_uri": "https://localhost:8080/"
        },
        "outputId": "edaec5ae-b698-42f6-c8af-bed4ebbf78bc"
      },
      "source": [
        "# slice from the end\n",
        "dc = students[7:]\n",
        "flash = student[1:]\n",
        "\n",
        "print(dc)\n",
        "print(flash)"
      ],
      "execution_count": null,
      "outputs": [
        {
          "output_type": "stream",
          "text": [
            "['bruce', 'henry', 'clark', 'diana']\n",
            "arry\n"
          ],
          "name": "stdout"
        }
      ]
    },
    {
      "cell_type": "code",
      "metadata": {
        "id": "NYSNXq7wLtR9",
        "colab": {
          "base_uri": "https://localhost:8080/"
        },
        "outputId": "295608fd-856f-4085-cb0b-ec67c81174fa"
      },
      "source": [
        "# slice from the begining\n",
        "normal = students[:4]\n",
        "flash = student[:3]\n",
        "\n",
        "print(normal)\n",
        "print(flash)"
      ],
      "execution_count": null,
      "outputs": [
        {
          "output_type": "stream",
          "text": [
            "['sam', 'pam', 'rocky', 'austin']\n",
            "Bar\n"
          ],
          "name": "stdout"
        }
      ]
    },
    {
      "cell_type": "code",
      "metadata": {
        "id": "uXeNb-9qNdkL",
        "colab": {
          "base_uri": "https://localhost:8080/"
        },
        "outputId": "c4686d60-02b7-4f5c-8bb6-a2af65bfc62f"
      },
      "source": [
        "# length of the list and the string\n",
        "print(len(students))\n",
        "print(len(student))"
      ],
      "execution_count": null,
      "outputs": [
        {
          "output_type": "stream",
          "text": [
            "11\n",
            "5\n"
          ],
          "name": "stdout"
        }
      ]
    },
    {
      "cell_type": "markdown",
      "metadata": {
        "id": "FPqHnXKXMLku"
      },
      "source": [
        "Of the types we have seen lists are most familier to strings, both supports the *len()* function, indexing and slicing.\n",
        "\n",
        "> Here above you have seen that the length of a string is the no of characters in the string, while the length of a list is the no of elements in the list.\n",
        "\n",
        "Another thing that they both supports aare membership operators:\n",
        "\n",
        "* **in:** evaluates if an object on the left side is included in the object on the right side.\n",
        "* **not in:** evaluates if object on left side is not included in object on right side."
      ]
    },
    {
      "cell_type": "code",
      "metadata": {
        "id": "3WSj6PZYL3Eg",
        "colab": {
          "base_uri": "https://localhost:8080/"
        },
        "outputId": "571102b4-25a0-4c15-f209-facb864ae787"
      },
      "source": [
        "greeting = \"Hello there\"\n",
        "print('her' in greeting, 'her' not in greeting)"
      ],
      "execution_count": null,
      "outputs": [
        {
          "output_type": "stream",
          "text": [
            "True False\n"
          ],
          "name": "stdout"
        }
      ]
    },
    {
      "cell_type": "code",
      "metadata": {
        "id": "sQIsQ-_PRZQm",
        "colab": {
          "base_uri": "https://localhost:8080/"
        },
        "outputId": "f7021d39-0a2d-4e50-9706-8c9e189d8ccc"
      },
      "source": [
        "print('ShapeAI' in students, 'ShapeAI' not in students)"
      ],
      "execution_count": null,
      "outputs": [
        {
          "output_type": "stream",
          "text": [
            "False True\n"
          ],
          "name": "stdout"
        }
      ]
    },
    {
      "cell_type": "markdown",
      "metadata": {
        "id": "ykKZQtwXfWRd"
      },
      "source": [
        "### **13.b. Mutability and Order:**\n",
        "\n",
        "So how are Lists diffrent from Strings, both supporst slicing, indexing, in and not in operators.\n",
        "\n",
        "The most obvious diffrence between them is that string is a sequence of characters while list's elements can be any type of bojects string, integers, floats orr bools.\n",
        "\n",
        "A more important diference is that lists can be modified but string can't. Look at the example below to understand more."
      ]
    },
    {
      "cell_type": "code",
      "metadata": {
        "id": "uEYr9AS0Rlxe",
        "colab": {
          "base_uri": "https://localhost:8080/"
        },
        "outputId": "cbc8c87b-edd5-4993-a15e-dca7cb4d338a"
      },
      "source": [
        "students = ['sam', 'pam', 'rocky', 'austin', 'steve', 'banner', 'tony', 'bruce', \n",
        "            'henry', 'clark', 'diana']\n",
        "\n",
        "students[2] = 'ben'\n",
        "print(students)"
      ],
      "execution_count": null,
      "outputs": [
        {
          "output_type": "stream",
          "text": [
            "['sam', 'pam', 'ben', 'austin', 'steve', 'banner', 'tony', 'bruce', 'henry', 'clark', 'diana']\n"
          ],
          "name": "stdout"
        }
      ]
    },
    {
      "cell_type": "code",
      "metadata": {
        "id": "FHuFUelijkOp",
        "colab": {
          "base_uri": "https://localhost:8080/",
          "height": 201
        },
        "outputId": "a642b920-8b18-4be0-c778-fb4d056c98ac"
      },
      "source": [
        "student = \"Barry\"\n",
        "student[1] = \"e\"\n",
        "print(student)"
      ],
      "execution_count": null,
      "outputs": [
        {
          "output_type": "error",
          "ename": "TypeError",
          "evalue": "ignored",
          "traceback": [
            "\u001b[0;31m---------------------------------------------------------------------------\u001b[0m",
            "\u001b[0;31mTypeError\u001b[0m                                 Traceback (most recent call last)",
            "\u001b[0;32m<ipython-input-69-45fd42fac3cd>\u001b[0m in \u001b[0;36m<module>\u001b[0;34m()\u001b[0m\n\u001b[1;32m      1\u001b[0m \u001b[0mstudent\u001b[0m \u001b[0;34m=\u001b[0m \u001b[0;34m\"Barry\"\u001b[0m\u001b[0;34m\u001b[0m\u001b[0;34m\u001b[0m\u001b[0m\n\u001b[0;32m----> 2\u001b[0;31m \u001b[0mstudent\u001b[0m\u001b[0;34m[\u001b[0m\u001b[0;36m1\u001b[0m\u001b[0;34m]\u001b[0m \u001b[0;34m=\u001b[0m \u001b[0;34m\"e\"\u001b[0m\u001b[0;34m\u001b[0m\u001b[0;34m\u001b[0m\u001b[0m\n\u001b[0m\u001b[1;32m      3\u001b[0m \u001b[0mprint\u001b[0m\u001b[0;34m(\u001b[0m\u001b[0mstudent\u001b[0m\u001b[0;34m)\u001b[0m\u001b[0;34m\u001b[0m\u001b[0;34m\u001b[0m\u001b[0m\n",
            "\u001b[0;31mTypeError\u001b[0m: 'str' object does not support item assignment"
          ]
        }
      ]
    },
    {
      "cell_type": "markdown",
      "metadata": {
        "id": "xMiN9z9pkAWm"
      },
      "source": [
        "**Mutability** is about whether or not we can change an object once it has been created. If an object (like a list or string) can be changed (like a list can), then it is called **mutable**. However, if an object cannot be changed without creating a completely new object (like strings), then the object is considered immutable."
      ]
    },
    {
      "cell_type": "markdown",
      "metadata": {
        "id": "xm5EHFuykdpP"
      },
      "source": [
        "**Order** is about whether the position of an element in the object can be used to access the element. **Both strings and lists are ordered.** We can use the order to access parts of a list and string.\n",
        "\n",
        "> However, you will see some data types in the next sections that will be unordered. For each of the upcoming data structures you see, it is useful to understand how you index, are they mutable, and are they ordered. Knowing this about the data structure is really useful!\n",
        "\n",
        "Additionally, you will see how these each have different methods, so why you would use one data structure vs. another is largely dependent on these properties, and what you can easily do with it!"
      ]
    },
    {
      "cell_type": "markdown",
      "metadata": {
        "id": "nQ22-QIIRXsG"
      },
      "source": [
        "Previously when we created a variable that heald an immutable object like string, the value of the immutable object was saved in memory. Like as you can see below"
      ]
    },
    {
      "cell_type": "code",
      "metadata": {
        "id": "-JjIXgKuPjlO",
        "colab": {
          "base_uri": "https://localhost:8080/"
        },
        "outputId": "62c2c83a-8d9e-48dc-f712-df42692ffd39"
      },
      "source": [
        "student = \"pam\"\n",
        "character = student\n",
        "print(character)\n",
        "character = \"peter\"\n",
        "print(character)\n",
        "print(student)"
      ],
      "execution_count": null,
      "outputs": [
        {
          "output_type": "stream",
          "text": [
            "pam\n",
            "peter\n",
            "pam\n"
          ],
          "name": "stdout"
        }
      ]
    },
    {
      "cell_type": "markdown",
      "metadata": {
        "id": "T4SpeeBCZAVB"
      },
      "source": [
        "Lists are diffrent from strings as they are mutable as can be seen from the example below"
      ]
    },
    {
      "cell_type": "code",
      "metadata": {
        "id": "fDu_EQW3j5yw",
        "colab": {
          "base_uri": "https://localhost:8080/"
        },
        "outputId": "2440a606-9cdd-4446-8877-9fc4ba718d7f"
      },
      "source": [
        "students = ['sam', 'pam', 'rocky', 'austin', 'steve', 'banner', 'tony', 'bruce', \n",
        "            'henry', 'clark', 'diana']\n",
        "characters = students\n",
        "print(characters)\n",
        "characters[1]= \"peter\"\n",
        "print(characters)\n",
        "print(students)"
      ],
      "execution_count": null,
      "outputs": [
        {
          "output_type": "stream",
          "text": [
            "['sam', 'pam', 'rocky', 'austin', 'steve', 'banner', 'tony', 'bruce', 'henry', 'clark', 'diana']\n",
            "['sam', 'peter', 'rocky', 'austin', 'steve', 'banner', 'tony', 'bruce', 'henry', 'clark', 'diana']\n",
            "['sam', 'peter', 'rocky', 'austin', 'steve', 'banner', 'tony', 'bruce', 'henry', 'clark', 'diana']\n"
          ],
          "name": "stdout"
        }
      ]
    },
    {
      "cell_type": "markdown",
      "metadata": {
        "id": "VC6ZnlQfZjsF"
      },
      "source": [
        "There are some useful functions for lists that you should get familier with.\n",
        "\n",
        "1. ***len():*** returns how many elements does the list has.\n",
        "2. ***max():*** returns the greatest element of a list.\n",
        "3. ***min():*** returns the smallest element of a list.\n",
        "4. ***sorted():*** returns a copy of the list, in order from smallest to the largest. leaving the orignal list unchanged\n",
        "\n",
        "> max element in a list of integers is the largest integer, while in the case of string is the string that will come last if the list was sorted alphabetically."
      ]
    },
    {
      "cell_type": "code",
      "metadata": {
        "id": "bk55uR0VPzqr",
        "colab": {
          "base_uri": "https://localhost:8080/"
        },
        "outputId": "e02f0634-e5eb-4487-b557-138b93a7a354"
      },
      "source": [
        "students = ['sam', 'pam', 'rocky', 'austin', 'steve', 'banner', 'tony', 'bruce', \n",
        "            'henry', 'clark', 'diana']\n",
        "\n",
        "student = \"barry\"\n",
        "\n",
        "print(max(students))\n",
        "print(max(student))"
      ],
      "execution_count": null,
      "outputs": [
        {
          "output_type": "stream",
          "text": [
            "tony\n",
            "y\n"
          ],
          "name": "stdout"
        }
      ]
    },
    {
      "cell_type": "markdown",
      "metadata": {
        "id": "hL-h6v8Nev9j"
      },
      "source": [
        "> a point to note is that even though you can have a list cntaining int and string a max function will be undefined upon such a list."
      ]
    },
    {
      "cell_type": "code",
      "metadata": {
        "id": "qofTAIxvccsm",
        "colab": {
          "base_uri": "https://localhost:8080/",
          "height": 166
        },
        "outputId": "9916065f-d8ba-427c-b2eb-319fe7ea6699"
      },
      "source": [
        "max([2, 'two'])"
      ],
      "execution_count": null,
      "outputs": [
        {
          "output_type": "error",
          "ename": "TypeError",
          "evalue": "ignored",
          "traceback": [
            "\u001b[0;31m---------------------------------------------------------------------------\u001b[0m",
            "\u001b[0;31mTypeError\u001b[0m                                 Traceback (most recent call last)",
            "\u001b[0;32m<ipython-input-73-89bfacf40baf>\u001b[0m in \u001b[0;36m<module>\u001b[0;34m()\u001b[0m\n\u001b[0;32m----> 1\u001b[0;31m \u001b[0mmax\u001b[0m\u001b[0;34m(\u001b[0m\u001b[0;34m[\u001b[0m\u001b[0;36m2\u001b[0m\u001b[0;34m,\u001b[0m \u001b[0;34m'two'\u001b[0m\u001b[0;34m]\u001b[0m\u001b[0;34m)\u001b[0m\u001b[0;34m\u001b[0m\u001b[0;34m\u001b[0m\u001b[0m\n\u001b[0m",
            "\u001b[0;31mTypeError\u001b[0m: '>' not supported between instances of 'str' and 'int'"
          ]
        }
      ]
    },
    {
      "cell_type": "code",
      "metadata": {
        "id": "DmQ7YXTse_Le",
        "colab": {
          "base_uri": "https://localhost:8080/"
        },
        "outputId": "2bcf807f-3111-44ed-ebb4-3db057c9469d"
      },
      "source": [
        "characters = sorted(students)\n",
        "print(characters)"
      ],
      "execution_count": null,
      "outputs": [
        {
          "output_type": "stream",
          "text": [
            "['austin', 'banner', 'bruce', 'clark', 'diana', 'henry', 'pam', 'rocky', 'sam', 'steve', 'tony']\n"
          ],
          "name": "stdout"
        }
      ]
    },
    {
      "cell_type": "markdown",
      "metadata": {
        "id": "SZiwJj5ua7qs"
      },
      "source": [
        "***Join()*** is an other useful function for lists(string lists), Join is a string method that takes a list of strings as an argument, and returns a string consisting of the list elements joined by a separator string. Look at the example below to understand.\n",
        "\n"
      ]
    },
    {
      "cell_type": "code",
      "metadata": {
        "id": "tUxIAmUiZgOv",
        "colab": {
          "base_uri": "https://localhost:8080/"
        },
        "outputId": "ff145574-dc22-410a-83ff-2c33df787951"
      },
      "source": [
        "sep_str = \"\\n\".join([\"Jack\", \"O\", \"Lantern\"])\n",
        "print(sep_str)"
      ],
      "execution_count": null,
      "outputs": [
        {
          "output_type": "stream",
          "text": [
            "Jack\n",
            "O\n",
            "Lantern\n"
          ],
          "name": "stdout"
        }
      ]
    },
    {
      "cell_type": "markdown",
      "metadata": {
        "id": "mKrXZopBesma"
      },
      "source": [
        "In this example we use the string **\"\\n\"** as the separator so that there is a newline between each element.\n",
        "We can also use other strings as separators with .join. Here we use a hyphen."
      ]
    },
    {
      "cell_type": "code",
      "metadata": {
        "id": "GPH5EfbYepKQ",
        "colab": {
          "base_uri": "https://localhost:8080/"
        },
        "outputId": "0c7eee82-8259-4f60-cd1e-ac60fd1c38f4"
      },
      "source": [
        "name = \"-\".join([\"Jack\", \"O\", \"Lantern\"])\n",
        "print(name)"
      ],
      "execution_count": null,
      "outputs": [
        {
          "output_type": "stream",
          "text": [
            "Jack-O-Lantern\n"
          ],
          "name": "stdout"
        }
      ]
    },
    {
      "cell_type": "markdown",
      "metadata": {
        "id": "z4Qml70wfYt5"
      },
      "source": [
        "> It is important to remember to separate each of the items in the list you are joining with a comma (,). Forgetting to do so will not trigger an error, but will also give you unexpected results."
      ]
    },
    {
      "cell_type": "markdown",
      "metadata": {
        "id": "NaEnB22pfci9"
      },
      "source": [
        "***append()*** is an other useful method that adds an element to the end of a list."
      ]
    },
    {
      "cell_type": "code",
      "metadata": {
        "id": "XcY1vqKLe1FK",
        "colab": {
          "base_uri": "https://localhost:8080/"
        },
        "outputId": "aea8c2ea-16bc-4401-e82d-a14d0d2fcc0e"
      },
      "source": [
        "letters = ['a', 'b', 'c', 'd']\n",
        "letters.append('e')\n",
        "print(letters)"
      ],
      "execution_count": null,
      "outputs": [
        {
          "output_type": "stream",
          "text": [
            "['a', 'b', 'c', 'd', 'e']\n"
          ],
          "name": "stdout"
        }
      ]
    },
    {
      "cell_type": "markdown",
      "metadata": {
        "id": "HFY2Ty8_hUdo"
      },
      "source": [
        "<br><br>\n",
        "\n",
        "## **14. Tuples:**\n",
        "\n",
        "A tuple is another useful container. It's a data type for immutable ordered sequences of elements. They are often used to store related pieces of information. Consider this example involving (x, y, z) coordinates:"
      ]
    },
    {
      "cell_type": "code",
      "metadata": {
        "id": "_Q0uioLufvgc",
        "colab": {
          "base_uri": "https://localhost:8080/"
        },
        "outputId": "46b750c0-0db3-491f-d52b-6709a4049af9"
      },
      "source": [
        "vector = (4, 5, 9)\n",
        "print(\"x-coordinate:\", vector[0])\n",
        "print(\"y-coordinate:\", vector[1])\n",
        "print(\"z-coordinate:\", vector[2])"
      ],
      "execution_count": null,
      "outputs": [
        {
          "output_type": "stream",
          "text": [
            "x-coordinate: 4\n",
            "y-coordinate: 5\n",
            "z-coordinate: 9\n"
          ],
          "name": "stdout"
        }
      ]
    },
    {
      "cell_type": "markdown",
      "metadata": {
        "id": "_JtjMmZ2rz1t"
      },
      "source": [
        "Tuples are similar to lists in that they store an ordered collection of objects which can be accessed by their indices. Unlike lists, however, tuples are immutable - you can't add and remove items from tuples, or sort them in place.\n",
        "\n",
        "> Tuples can also be used to assign multiple variables in a compact way.\n",
        "\n",
        "> The parentheses are optional when defining tuples, and programmers frequently omit them if parentheses don't clarify the code."
      ]
    },
    {
      "cell_type": "code",
      "metadata": {
        "id": "-a_ISfUIrx65",
        "colab": {
          "base_uri": "https://localhost:8080/"
        },
        "outputId": "1dc19c22-66a6-47fc-e991-b83066cd5004"
      },
      "source": [
        "location = 108.7774, 92.5556\n",
        "latitude, longtitude = location\n",
        "print(\"The coordinates are {} x {}\".format(latitude, longtitude))"
      ],
      "execution_count": null,
      "outputs": [
        {
          "output_type": "stream",
          "text": [
            "The coordinates are 108.7774 x 92.5556\n"
          ],
          "name": "stdout"
        }
      ]
    },
    {
      "cell_type": "markdown",
      "metadata": {
        "id": "ibh9_5cYeTBp"
      },
      "source": [
        "In the second line, two variables are assigned from the content of the tuple location. This is called tuple unpacking. You can use tuple unpacking to assign the information from a tuple into multiple variables without having to access them one by one and make multiple assignment statements.\n",
        "\n",
        "If we won't need to use location directly, we could shorten those two lines of code into a single line that assigns three variables in one go!"
      ]
    },
    {
      "cell_type": "code",
      "metadata": {
        "id": "wEMZxvSjeUzF",
        "colab": {
          "base_uri": "https://localhost:8080/"
        },
        "outputId": "da1f3b2b-7558-490c-bb2c-85f00fc78e87"
      },
      "source": [
        "location = 108.7774, 92.5556\n",
        "\n",
        "print(\"The coordinates are {} x {}\".format(latitude, longtitude))"
      ],
      "execution_count": null,
      "outputs": [
        {
          "output_type": "stream",
          "text": [
            "The coordinates are 108.7774 x 92.5556\n"
          ],
          "name": "stdout"
        }
      ]
    },
    {
      "cell_type": "code",
      "metadata": {
        "id": "QdKHl1PXfZ2i"
      },
      "source": [
        ""
      ],
      "execution_count": null,
      "outputs": []
    }
  ]
}